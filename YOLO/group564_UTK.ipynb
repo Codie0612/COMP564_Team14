{
 "cells": [
  {
   "cell_type": "code",
   "execution_count": 1,
   "id": "cb8b1a29-ca9f-4b78-98d9-2d60b9f3f5ec",
   "metadata": {},
   "outputs": [],
   "source": [
    "import pandas as pd\n",
    "import numpy as np\n",
    "import cv2\n",
    "import os\n",
    "from sklearn.utils import shuffle\n",
    "from tqdm import tqdm\n",
    "import random\n",
    "from PIL import Image"
   ]
  },
  {
   "cell_type": "code",
   "execution_count": 2,
   "id": "e4f3fea6-64e8-4445-848b-b5d9f565b62e",
   "metadata": {},
   "outputs": [],
   "source": [
    "from sklearn.model_selection import train_test_split"
   ]
  },
  {
   "cell_type": "code",
   "execution_count": 3,
   "id": "9838229f-a5b0-40c2-a8c7-7b1e2003ed65",
   "metadata": {},
   "outputs": [],
   "source": [
    "random.seed(456)"
   ]
  },
  {
   "cell_type": "code",
   "execution_count": 4,
   "id": "b49b1650-3f1e-4a34-af42-2e9b7c4017e9",
   "metadata": {},
   "outputs": [],
   "source": [
    "# 定义图像增强函数\n",
    "def random_rotation(img):\n",
    "    angle = random.randint(-30, 30)\n",
    "    rows, cols = img.shape[:2]\n",
    "    M = cv2.getRotationMatrix2D((cols/2, rows/2), angle, 1)\n",
    "    img = cv2.warpAffine(img, M, (cols, rows))\n",
    "    return img\n",
    "\n",
    "def random_scale(img):\n",
    "    scale = random.uniform(0.8, 1.2)\n",
    "    img = cv2.resize(img, None, fx=scale, fy=scale, interpolation=cv2.INTER_LINEAR)\n",
    "    return img\n",
    "\n",
    "def gaussian_blur(img):\n",
    "    return cv2.GaussianBlur(img, (5, 5), 0)\n",
    "\n",
    "def color_perturbation(img):\n",
    "    img = img.astype(np.float32)\n",
    "    img += np.random.normal(0, 10, img.shape)\n",
    "    img = np.clip(img, 0, 255)\n",
    "    return img.astype(np.uint8)\n",
    "\n",
    "def augment_image(img):\n",
    "    img = random_rotation(img)\n",
    "    img = random_scale(img)\n",
    "    img = gaussian_blur(img)\n",
    "    img = color_perturbation(img)\n",
    "    return img\n"
   ]
  },
  {
   "cell_type": "code",
   "execution_count": 5,
   "id": "2ed3b639-3ef9-4195-8222-0879f0af73e6",
   "metadata": {},
   "outputs": [],
   "source": [
    "def load_data_to_dataframe(data_dir):\n",
    "    data = []\n",
    "    for filename in os.listdir(data_dir):\n",
    "        if filename.endswith(\".jpg\"):\n",
    "            try:\n",
    "                # 文件名\n",
    "                parts = filename.split('_')\n",
    "                if len(parts) < 4:  # 如果分割后的部分不足4个，跳过该文件\n",
    "                    print(f\"跳过文件（命名不规范）: {filename}\")\n",
    "                    continue\n",
    "\n",
    "                # 提取年龄、性别等信息\n",
    "                age = int(parts[0])\n",
    "                gender = int(parts[1])\n",
    "                # ethnicity = int(parts[2])  # 如果需要种族信息，可以取消注释\n",
    "\n",
    "                # 读取图像\n",
    "                img_path = os.path.join(data_dir, filename)\n",
    "                img = Image.open(img_path).convert('RGB')\n",
    "                img = img.resize((224, 224))  # 调整图像尺寸\n",
    "                img = np.array(img)  # 转换为numpy数组\n",
    "\n",
    "                # 添加到数据列表\n",
    "                data.append({\n",
    "                    'age': age,\n",
    "                    # 'ethnicity': ethnicity,  # 如果需要种族信息，可以取消注释\n",
    "                    'gender': gender,\n",
    "                    'img_name': filename,\n",
    "                    'pixels': img\n",
    "                })\n",
    "            except (ValueError, IndexError) as e:\n",
    "                # 如果解析失败，跳过该文件\n",
    "                print(f\"跳过文件（解析失败）: {filename}, 错误: {e}\")\n",
    "                continue\n",
    "\n",
    "    # 创建DataFrame\n",
    "    df = pd.DataFrame(data)\n",
    "    return df"
   ]
  },
  {
   "cell_type": "code",
   "execution_count": 6,
   "id": "e7b261f3-0364-410e-a768-0e51f8e95912",
   "metadata": {},
   "outputs": [],
   "source": [
    "def augment_dataframe(df):\n",
    "    augmented_data = []\n",
    "    for idx, row in df.iterrows():\n",
    "        img = row['pixels']\n",
    "        img_augmented = augment_image(img)  \n",
    "        augmented_data.append(img_augmented)\n",
    "\n",
    "    df_augmented = pd.DataFrame({\n",
    "        'age': df['age'],\n",
    "        # 'ethnicity': df['ethnicity'],\n",
    "        'gender': df['gender'],\n",
    "        'img_name': df['img_name'],\n",
    "        'pixels': augmented_data\n",
    "    })\n",
    "    return df_augmented"
   ]
  },
  {
   "cell_type": "code",
   "execution_count": 7,
   "id": "6b9440ff-8e02-45d3-89f0-c2b751847bc8",
   "metadata": {},
   "outputs": [
    {
     "name": "stdout",
     "output_type": "stream",
     "text": [
      "跳过文件（命名不规范）: 39_1_20170116174525125.jpg.chip.jpg\n",
      "跳过文件（命名不规范）: 61_1_20170109142408075.jpg.chip.jpg\n",
      "跳过文件（命名不规范）: 61_1_20170109150557335.jpg.chip.jpg\n"
     ]
    }
   ],
   "source": [
    "data_dir = os.path.join('UTKFace')\n",
    "df = load_data_to_dataframe(data_dir)\n",
    "#df_augmented = augment_dataframe(df)\n",
    "# df_augmented.to_csv('augmented_data.csv', index=False)  # 保存为CSV文件\n"
   ]
  },
  {
   "cell_type": "code",
   "execution_count": 8,
   "id": "8d485afb-0dfb-4550-87f7-cea69c9e6408",
   "metadata": {},
   "outputs": [
    {
     "data": {
      "text/plain": [
       "<bound method NDFrame.head of        age  gender                                img_name  \\\n",
       "0      100       0  100_0_0_20170112213500903.jpg.chip.jpg   \n",
       "1      100       0  100_0_0_20170112215240346.jpg.chip.jpg   \n",
       "2      100       1  100_1_0_20170110183726390.jpg.chip.jpg   \n",
       "3      100       1  100_1_0_20170112213001988.jpg.chip.jpg   \n",
       "4      100       1  100_1_0_20170112213303693.jpg.chip.jpg   \n",
       "...    ...     ...                                     ...   \n",
       "23700    9       1    9_1_3_20161220222856346.jpg.chip.jpg   \n",
       "23701    9       1    9_1_3_20170104222949455.jpg.chip.jpg   \n",
       "23702    9       1    9_1_4_20170103200637399.jpg.chip.jpg   \n",
       "23703    9       1    9_1_4_20170103200814791.jpg.chip.jpg   \n",
       "23704    9       1    9_1_4_20170103213057382.jpg.chip.jpg   \n",
       "\n",
       "                                                  pixels  \n",
       "0      [[[215, 206, 201], [213, 204, 199], [214, 205,...  \n",
       "1      [[[118, 122, 134], [120, 124, 135], [122, 126,...  \n",
       "2      [[[221, 222, 226], [231, 233, 238], [233, 237,...  \n",
       "3      [[[78, 82, 93], [78, 82, 93], [78, 82, 93], [7...  \n",
       "4      [[[65, 69, 80], [66, 70, 81], [67, 71, 82], [6...  \n",
       "...                                                  ...  \n",
       "23700  [[[254, 255, 255], [254, 255, 255], [254, 255,...  \n",
       "23701  [[[9, 9, 9], [5, 5, 5], [1, 1, 1], [0, 0, 0], ...  \n",
       "23702  [[[220, 210, 201], [222, 212, 202], [218, 208,...  \n",
       "23703  [[[8, 8, 6], [8, 8, 6], [7, 9, 6], [7, 9, 7], ...  \n",
       "23704  [[[252, 177, 146], [249, 176, 144], [241, 170,...  \n",
       "\n",
       "[23705 rows x 4 columns]>"
      ]
     },
     "execution_count": 8,
     "metadata": {},
     "output_type": "execute_result"
    }
   ],
   "source": [
    "df.head"
   ]
  },
  {
   "cell_type": "code",
   "execution_count": 9,
   "id": "b79f5bed-cbec-4073-bfd0-ebd6f981212a",
   "metadata": {},
   "outputs": [],
   "source": [
    "#进行数据增强前先划分数据集\n",
    "# 指定划分比例\n",
    "train_ratio = 0.8  # 训练集比例\n",
    "val_ratio = 0.2    # 验证集比例\n",
    "\n",
    "# 划分数据集\n",
    "train_df, val_df = train_test_split(df, test_size=val_ratio, random_state=456)"
   ]
  },
  {
   "cell_type": "code",
   "execution_count": 10,
   "id": "ade52644-ab59-498d-8ba8-29d0a1a0de54",
   "metadata": {},
   "outputs": [
    {
     "name": "stdout",
     "output_type": "stream",
     "text": [
      "训练集大小: 18964\n",
      "验证集大小: 4741\n"
     ]
    }
   ],
   "source": [
    "# 输出划分结果\n",
    "print(f\"训练集大小: {len(train_df)}\")\n",
    "print(f\"验证集大小: {len(val_df)}\")\n"
   ]
  },
  {
   "cell_type": "code",
   "execution_count": 11,
   "id": "fa119a1c-3142-4d62-8dc9-ddf0e87c05d0",
   "metadata": {},
   "outputs": [],
   "source": [
    "#仅对训练集进行数据增强\n",
    "df_augmented = augment_dataframe(train_df)\n",
    "# df_augmented.to_csv('augmented_data.csv', index=False)  # 保存为CSV文件"
   ]
  },
  {
   "cell_type": "code",
   "execution_count": 12,
   "id": "6ca102f9-9ffd-4ead-b9f5-586a3da1a648",
   "metadata": {},
   "outputs": [
    {
     "data": {
      "text/html": [
       "<div>\n",
       "<style scoped>\n",
       "    .dataframe tbody tr th:only-of-type {\n",
       "        vertical-align: middle;\n",
       "    }\n",
       "\n",
       "    .dataframe tbody tr th {\n",
       "        vertical-align: top;\n",
       "    }\n",
       "\n",
       "    .dataframe thead th {\n",
       "        text-align: right;\n",
       "    }\n",
       "</style>\n",
       "<table border=\"1\" class=\"dataframe\">\n",
       "  <thead>\n",
       "    <tr style=\"text-align: right;\">\n",
       "      <th></th>\n",
       "      <th>age</th>\n",
       "      <th>gender</th>\n",
       "      <th>img_name</th>\n",
       "      <th>pixels</th>\n",
       "    </tr>\n",
       "  </thead>\n",
       "  <tbody>\n",
       "    <tr>\n",
       "      <th>16430</th>\n",
       "      <td>44</td>\n",
       "      <td>0</td>\n",
       "      <td>44_0_0_20170117003404757.jpg.chip.jpg</td>\n",
       "      <td>[[[36, 0, 0], [4, 0, 4], [0, 20, 0], [0, 2, 0]...</td>\n",
       "    </tr>\n",
       "    <tr>\n",
       "      <th>2107</th>\n",
       "      <td>1</td>\n",
       "      <td>0</td>\n",
       "      <td>1_0_3_20161220220036937.jpg.chip.jpg</td>\n",
       "      <td>[[[39, 20, 7], [53, 25, 39], [105, 61, 57], [1...</td>\n",
       "    </tr>\n",
       "    <tr>\n",
       "      <th>6799</th>\n",
       "      <td>26</td>\n",
       "      <td>1</td>\n",
       "      <td>26_1_0_20170116234741431.jpg.chip.jpg</td>\n",
       "      <td>[[[6, 3, 4], [1, 4, 0], [0, 4, 4], [0, 0, 0], ...</td>\n",
       "    </tr>\n",
       "    <tr>\n",
       "      <th>4205</th>\n",
       "      <td>24</td>\n",
       "      <td>0</td>\n",
       "      <td>24_0_0_20170119152257171.jpg.chip.jpg</td>\n",
       "      <td>[[[0, 8, 0], [1, 0, 24], [2, 9, 0], [0, 12, 0]...</td>\n",
       "    </tr>\n",
       "    <tr>\n",
       "      <th>19614</th>\n",
       "      <td>56</td>\n",
       "      <td>1</td>\n",
       "      <td>56_1_0_20170104235032259.jpg.chip.jpg</td>\n",
       "      <td>[[[0, 4, 0], [0, 7, 6], [0, 20, 0], [6, 0, 2],...</td>\n",
       "    </tr>\n",
       "  </tbody>\n",
       "</table>\n",
       "</div>"
      ],
      "text/plain": [
       "       age  gender                               img_name  \\\n",
       "16430   44       0  44_0_0_20170117003404757.jpg.chip.jpg   \n",
       "2107     1       0   1_0_3_20161220220036937.jpg.chip.jpg   \n",
       "6799    26       1  26_1_0_20170116234741431.jpg.chip.jpg   \n",
       "4205    24       0  24_0_0_20170119152257171.jpg.chip.jpg   \n",
       "19614   56       1  56_1_0_20170104235032259.jpg.chip.jpg   \n",
       "\n",
       "                                                  pixels  \n",
       "16430  [[[36, 0, 0], [4, 0, 4], [0, 20, 0], [0, 2, 0]...  \n",
       "2107   [[[39, 20, 7], [53, 25, 39], [105, 61, 57], [1...  \n",
       "6799   [[[6, 3, 4], [1, 4, 0], [0, 4, 4], [0, 0, 0], ...  \n",
       "4205   [[[0, 8, 0], [1, 0, 24], [2, 9, 0], [0, 12, 0]...  \n",
       "19614  [[[0, 4, 0], [0, 7, 6], [0, 20, 0], [6, 0, 2],...  "
      ]
     },
     "execution_count": 12,
     "metadata": {},
     "output_type": "execute_result"
    }
   ],
   "source": [
    "df_augmented.head()"
   ]
  },
  {
   "cell_type": "code",
   "execution_count": 13,
   "id": "300c4a1d-8998-4f44-932f-61bd9a2d09dc",
   "metadata": {},
   "outputs": [
    {
     "ename": "MemoryError",
     "evalue": "",
     "output_type": "error",
     "traceback": [
      "\u001b[1;31m---------------------------------------------------------------------------\u001b[0m",
      "\u001b[1;31mMemoryError\u001b[0m                               Traceback (most recent call last)",
      "Cell \u001b[1;32mIn[13], line 1\u001b[0m\n\u001b[1;32m----> 1\u001b[0m get_ipython()\u001b[38;5;241m.\u001b[39mrun_line_magic(\u001b[38;5;124m'\u001b[39m\u001b[38;5;124mstore\u001b[39m\u001b[38;5;124m'\u001b[39m, \u001b[38;5;124m'\u001b[39m\u001b[38;5;124mdf_augmented\u001b[39m\u001b[38;5;124m'\u001b[39m)\n\u001b[0;32m      2\u001b[0m get_ipython()\u001b[38;5;241m.\u001b[39mrun_line_magic(\u001b[38;5;124m'\u001b[39m\u001b[38;5;124mstore\u001b[39m\u001b[38;5;124m'\u001b[39m, \u001b[38;5;124m'\u001b[39m\u001b[38;5;124mval_df\u001b[39m\u001b[38;5;124m'\u001b[39m)\n",
      "File \u001b[1;32mD:\\anaconda\\Lib\\site-packages\\IPython\\core\\interactiveshell.py:2480\u001b[0m, in \u001b[0;36mInteractiveShell.run_line_magic\u001b[1;34m(self, magic_name, line, _stack_depth)\u001b[0m\n\u001b[0;32m   2478\u001b[0m     kwargs[\u001b[38;5;124m'\u001b[39m\u001b[38;5;124mlocal_ns\u001b[39m\u001b[38;5;124m'\u001b[39m] \u001b[38;5;241m=\u001b[39m \u001b[38;5;28mself\u001b[39m\u001b[38;5;241m.\u001b[39mget_local_scope(stack_depth)\n\u001b[0;32m   2479\u001b[0m \u001b[38;5;28;01mwith\u001b[39;00m \u001b[38;5;28mself\u001b[39m\u001b[38;5;241m.\u001b[39mbuiltin_trap:\n\u001b[1;32m-> 2480\u001b[0m     result \u001b[38;5;241m=\u001b[39m fn(\u001b[38;5;241m*\u001b[39margs, \u001b[38;5;241m*\u001b[39m\u001b[38;5;241m*\u001b[39mkwargs)\n\u001b[0;32m   2482\u001b[0m \u001b[38;5;66;03m# The code below prevents the output from being displayed\u001b[39;00m\n\u001b[0;32m   2483\u001b[0m \u001b[38;5;66;03m# when using magics with decorator @output_can_be_silenced\u001b[39;00m\n\u001b[0;32m   2484\u001b[0m \u001b[38;5;66;03m# when the last Python token in the expression is a ';'.\u001b[39;00m\n\u001b[0;32m   2485\u001b[0m \u001b[38;5;28;01mif\u001b[39;00m \u001b[38;5;28mgetattr\u001b[39m(fn, magic\u001b[38;5;241m.\u001b[39mMAGIC_OUTPUT_CAN_BE_SILENCED, \u001b[38;5;28;01mFalse\u001b[39;00m):\n",
      "File \u001b[1;32mD:\\anaconda\\Lib\\site-packages\\IPython\\extensions\\storemagic.py:229\u001b[0m, in \u001b[0;36mStoreMagics.store\u001b[1;34m(self, parameter_s)\u001b[0m\n\u001b[0;32m    227\u001b[0m     \u001b[38;5;28;01mreturn\u001b[39;00m\n\u001b[0;32m    228\u001b[0m \u001b[38;5;66;03m#pickled = pickle.dumps(obj)\u001b[39;00m\n\u001b[1;32m--> 229\u001b[0m db[ \u001b[38;5;124m'\u001b[39m\u001b[38;5;124mautorestore/\u001b[39m\u001b[38;5;124m'\u001b[39m \u001b[38;5;241m+\u001b[39m arg ] \u001b[38;5;241m=\u001b[39m obj\n\u001b[0;32m    230\u001b[0m \u001b[38;5;28mprint\u001b[39m(\u001b[38;5;124m\"\u001b[39m\u001b[38;5;124mStored \u001b[39m\u001b[38;5;124m'\u001b[39m\u001b[38;5;132;01m%s\u001b[39;00m\u001b[38;5;124m'\u001b[39m\u001b[38;5;124m (\u001b[39m\u001b[38;5;132;01m%s\u001b[39;00m\u001b[38;5;124m)\u001b[39m\u001b[38;5;124m\"\u001b[39m \u001b[38;5;241m%\u001b[39m (arg, obj\u001b[38;5;241m.\u001b[39m\u001b[38;5;18m__class__\u001b[39m\u001b[38;5;241m.\u001b[39m\u001b[38;5;18m__name__\u001b[39m))\n",
      "File \u001b[1;32mD:\\anaconda\\Lib\\site-packages\\pickleshare.py:118\u001b[0m, in \u001b[0;36mPickleShareDB.__setitem__\u001b[1;34m(self, key, value)\u001b[0m\n\u001b[0;32m    115\u001b[0m \u001b[38;5;66;03m# We specify protocol 2, so that we can mostly go between Python 2\u001b[39;00m\n\u001b[0;32m    116\u001b[0m \u001b[38;5;66;03m# and Python 3. We can upgrade to protocol 3 when Python 2 is obsolete.\u001b[39;00m\n\u001b[0;32m    117\u001b[0m \u001b[38;5;28;01mwith\u001b[39;00m fil\u001b[38;5;241m.\u001b[39mopen(\u001b[38;5;124m'\u001b[39m\u001b[38;5;124mwb\u001b[39m\u001b[38;5;124m'\u001b[39m) \u001b[38;5;28;01mas\u001b[39;00m f:\n\u001b[1;32m--> 118\u001b[0m     pickle\u001b[38;5;241m.\u001b[39mdump(value, f, protocol\u001b[38;5;241m=\u001b[39m\u001b[38;5;241m2\u001b[39m)\n\u001b[0;32m    119\u001b[0m \u001b[38;5;28;01mtry\u001b[39;00m:\n\u001b[0;32m    120\u001b[0m     \u001b[38;5;28mself\u001b[39m\u001b[38;5;241m.\u001b[39mcache[fil] \u001b[38;5;241m=\u001b[39m (value, fil\u001b[38;5;241m.\u001b[39mstat()\u001b[38;5;241m.\u001b[39mst_mtime)\n",
      "\u001b[1;31mMemoryError\u001b[0m: "
     ]
    }
   ],
   "source": [
    "%store df_augmented\n",
    "%store val_df"
   ]
  }
 ],
 "metadata": {
  "kernelspec": {
   "display_name": "Python 3 (ipykernel)",
   "language": "python",
   "name": "python3"
  },
  "language_info": {
   "codemirror_mode": {
    "name": "ipython",
    "version": 3
   },
   "file_extension": ".py",
   "mimetype": "text/x-python",
   "name": "python",
   "nbconvert_exporter": "python",
   "pygments_lexer": "ipython3",
   "version": "3.12.4"
  }
 },
 "nbformat": 4,
 "nbformat_minor": 5
}
